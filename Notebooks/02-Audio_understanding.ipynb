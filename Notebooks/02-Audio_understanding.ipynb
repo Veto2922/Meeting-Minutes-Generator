{
 "cells": [
  {
   "cell_type": "code",
   "execution_count": 1,
   "metadata": {},
   "outputs": [
    {
     "data": {
      "text/plain": [
       "10"
      ]
     },
     "execution_count": 1,
     "metadata": {},
     "output_type": "execute_result"
    }
   ],
   "source": [
    "5+5"
   ]
  },
  {
   "cell_type": "code",
   "execution_count": 2,
   "metadata": {},
   "outputs": [],
   "source": [
    "from google import genai \n",
    "from google.genai import types\n",
    "from dotenv import load_dotenv\n",
    "import os\n",
    "\n",
    "load_dotenv()\n",
    "api_key = os.getenv(\"GEMINI_API_KEY\")\n",
    "\n",
    "client = genai.Client(api_key=api_key)\n",
    "\n"
   ]
  },
  {
   "cell_type": "code",
   "execution_count": 3,
   "metadata": {},
   "outputs": [],
   "source": [
    "myfile = client.files.upload(file=r\"..\\data\\denver_extract.mp3\")"
   ]
  },
  {
   "cell_type": "code",
   "execution_count": 4,
   "metadata": {},
   "outputs": [
    {
     "data": {
      "text/plain": [
       "File(\n",
       "  create_time=datetime.datetime(2025, 6, 26, 19, 33, 10, 409313, tzinfo=TzInfo(UTC)),\n",
       "  expiration_time=datetime.datetime(2025, 6, 28, 19, 33, 9, 901265, tzinfo=TzInfo(UTC)),\n",
       "  mime_type='audio/mpeg',\n",
       "  name='files/ni7n63vn872b',\n",
       "  sha256_hash='NGUxMWFkOTExNjRkMzZkNDNjYjcxOGI1YjQ1ZGEyMDc5ODdlYzYwYmE1NmRhMGE4NDc3ODEyYzVhOTE2ODI3MA==',\n",
       "  size_bytes=14401035,\n",
       "  source=<FileSource.UPLOADED: 'UPLOADED'>,\n",
       "  state=<FileState.ACTIVE: 'ACTIVE'>,\n",
       "  update_time=datetime.datetime(2025, 6, 26, 19, 33, 10, 409313, tzinfo=TzInfo(UTC)),\n",
       "  uri='https://generativelanguage.googleapis.com/v1beta/files/ni7n63vn872b'\n",
       ")"
      ]
     },
     "execution_count": 4,
     "metadata": {},
     "output_type": "execute_result"
    }
   ],
   "source": [
    "myfile"
   ]
  },
  {
   "cell_type": "code",
   "execution_count": 5,
   "metadata": {},
   "outputs": [
    {
     "name": "stdout",
     "output_type": "stream",
     "text": [
      "And kind of the confluence of this whole idea of the confluence week, the merging of two rivers. And uh as we've kind of seen recently in politics and in the world, there's a lot of um situations where water is very important right now and it's a very big issue. So that is the reason that the back of the logo is considered water. So, let you see the creation of the logo here. And yeah, so that basically um kind of sums up the reason behind the logo and the um all the meanings behind the symbolism. And uh I'll you'll hear a little bit more about our confluence week is basically highlighting all of these indigenous events and things that are happening around Denver so that we can kind of bring more people together and kind of share this whole idea of indigenous people's day. So, thank you. Thank you so much and thanks for your leadership. All right. Welcome to the Denver City Council meeting of Monday, October 9th. Please rise with the Pledge of Allegiance by Councilman Lopez. I pledge allegiance to the Flag of the United States of America and to the Republic for which it stands, one nation under God, indivisible, with liberty and justice for all. All right, thank you, Councilman Lopez. Madam Secretary, roll call. Black. Clark. Here. Espinoza. Here. Flynn. Gilmore. Here. Here. Kashmann. Here. Kniech. Here. Lopez. Here. New. Here. Ortega. Here. Sussman. Here. Mr. President. Here. Eleven present. Eleven members present, we do have a quorum. Approval of the minutes. Are there any corrections to the minutes of October 2nd? Seeing none, minutes of October 2nd stand approved. Council announcements. Are there any announcements by members of Council? Councilman Clark. Thank you, Mr. President. Um, I just wanted to invite everyone down to the first ever Halloween parade on Broadway and lucky District 7. It will happen on Saturday, October 21st, at 6:00 PM. It will move um along Broadway from 3rd to Alameda. It's going to be a fun, family-friendly event. Everyone's invited to come down, wear a costume, Um, there'll be candy for the kids and um there are Tiki zombies and uh 29 Hearses and all kinds of fun and funky stuff on uh the fun and funky part of Broadway. So please join us October 21st at 6:00 for the Broadway Halloween parade. Thank you, Mr. President. All right, thank you, Councilman Clark. I will be there. All right, uh, presentations. Madam Secretary, do we have any presentations? None, Mr. President. Communications. Do we have any communications? None, Mr. President. We do have one proclamation this evening. Uh, Proclamation 1127 in observance of uh the annual Indigenous Peoples' Uh, Day in the City and County of Denver. Councilman Lopez, would you please read it? Thank you, Mr. President. With pride. Uh, Proclamation Number 17, Well, let me just say this differently. Proclamation Number 1127 series of 2017, an observance of the second annual Indigenous Peoples' Day in the City and County of Denver. Whereas the Council of the City and County of Denver recognizes that the indigenous peoples have lived and flourished on the lands known as the Americas since time immemorial. And that Denver and the surrounding communities are built upon the ancestral homelands of numerous indigenous tribes, which include the Southern Ute, the Ute Mountain, Ute Tribes of Colorado. And whereas the tribal homelands and seasonal encampments of the Arapahoe and Cheyenne people along the banks of the Cherry Creek and South Platte River confluence, gave bearing to the future settlements that would become the birthplace of the Mile High City. And whereas, Colorado encompasses the ancestral homelands of 48 tribes and the City and County of Denver and surrounding communities are home to the descendants of approximately 100 tribal nations. And whereas, on October 3rd, 2016, the City and County of Denver unanimously passed Council Bill 801 Series of 2016, officially designating the second Monday of October of each year as Indigenous Peoples' Day in Denver, Colorado. And whereas, the Council of the City and County of Denver continues to recognize and value the vast contributions made to community, made to the community through indigenous people's knowledge, science, philosophy, art, and culture. And through these contributions, the City of Denver has developed and thrived. Whereas, the indigenous community, especially youth, have made great efforts this year to draw attention to the contributions of indigenous people including Confluence Week, drawing record attendance to a national indigenous youth leadership conference, leading conversations on inclusion with their peers, and supporting increased indigenous youth participation in science and engineering. Now, therefore, be it proclaimed by the Council of the City and County of Denver, Section 1: That the Council of the City and County of Denver celebrates and honors the cultural and foundational contributions of indigenous people to our history. Our past, our present, and future, and continues to promote the education of the Denver, of the Denver community about these historical and contemporary contributions of indigenous people. Section 2: That the City and County of Denver, Colorado, does hereby observe October 9th, 2017, as Indigenous Peoples' Day. Section 3: That the Clerk of the City and County of Denver shall attest and affix the seal of the City and County of Denver to this proclamation and that a copy be trans, transmitted, Excuse me, to the Denver American Indian Commission, the City and County of Denver School District Number 1, and the Colorado Commission on Indian Affairs. Thank you, Councilman Lopez. Your motion to adopt. Mr. President, I move that Proclamation Number 1127 Series of 2017 be adopted. All right, it has been moved and seconded. Comes with the members of Council. Councilman Lopez. Thank you, Mr. President. Um, it gives me a lot of pleasure and and and pride to read this proclamation officially for this, for the third time, but as Indigenous Peoples' Day in Denver officially for the second time. Um, it is uh it's always awesome to be able to see um not just this proclamation come through, come by my desk, but to see so many different people from our community in our in our council chambers. Um, it was a very beautiful piece of artwork that you presented to us earlier and it is exactly the spirit that we um drafted this proclamation and this actual the the ordinance that created Indigenous Peoples' Day when we sat down and wrote it and as a community, we couldn't think of anything else to begin except for the confluence of the two rivers. And those confluence of the two rivers created such a great city. And we live in such an amazing city and we we're all proud of it and sometimes we um and and a lot of people from all over the country are all over the world are proud of it and sometimes a little too proud of it. I just tell 'em to go back home. Um, but um I'm I'm kidding when I say that. Um, but the the the really nice thing about this is that um we are celebrating Indigenous Peoples' Day out of pride for who we are, who we are as a city and and the contributions of indigenous people to the city. Not out of spite, not out of um a replacement of one culture over the other or or out of um contempt or um or disrespect. You know, I I think of uh a quote that Cesar Chavez uh made very um very popular. And uh it stuck with me for a very long time and and and I I I anytime I have the opportunity to speak in front of children and especially children in our community that, you know, they they um often second guess themselves in where they're coming from, who they are. And um, and I always say that, you know, it's it's very important to be proud of where we're from. And the quote that I use from Cesar Chavez is, um, you know, pride in one's own culture does not require contempt or disrespect of another. Right? And that's very important. It's very important for us to recognize that. No matter who we are, where we come from in this society, that your pride and your own culture doesn't require, should not require the contempt or disrespect of another. And man, what a year to be for that to to sit on our shoulders for a while, for us to think about. Right? And so I wanted to um uh just to to thank you all, to thank the Commission. Um, there's going to be a couple individuals that have come and come and speak. Thank you for your art, your lovely artwork for us to see uh what's in your heart and what now has become a probably's going to be a very important symbol, uh for the community. And also just for the work, the the daily work, every single day. We still have a lot of brothers and sisters whose ancestors once lived in these lands freely, now stand on street corners. Right? In poverty. Um, without access to services, right? Um, without access to to sobriety or even housing or jobs. And what a what a what a cruel way to pay back a culture that has paved the way for the city to be built upon its shores, right? So, um we have a lot of work to do. And these kind of proclamations and this day is not a day off, it's a day on in Denver. Uh, right? And and and addressing those those those critical issues. So, Um I I know that my colleagues are uh very supportive. I'm going to ask you to support this proclamation as I know you always have done in the past. I'm very proud of today. Oh, and we made Time Magazine and Newsweek once again. Today. Right. As being a leader in terms of the cities that are celebrating Indigenous Peoples' Day. I wanted to make a point out of that. Thank you, Councilman Lopez, and thank you for sponsoring this. Councilwoman Ortega. Mr. President, I want to ask that my name be added. I don't think I could um add much more to what Councilman Lopez has um shared with us. Um, I want to thank him for bringing this forward and um really just appreciate all the contributions that our um Native American community has contributed to this great city and great state. Um, I worked in the Lieutenant Governor's office when the Commission on Indian Affairs was created and had the benefit of being able to go down to um the Four Corners for a peace treaty signing ceremony between the Utes and the Comanches that had been sort of at at odds with each other for about a hundred years and just being able to participate in that pow wow was was pretty awesome. So, um and for those of you who continue to participate in the annual pow wow, it's it's such a great opportunity for everybody else to enjoy so many of the contributions of the culture. I mean, to see that the dance continues to be carried on as well as as the Native language from generation to generation is just so incredible because in so many cultures, you know, people have come here and um assimilated to the the, you know, the norms here and they lose their language and and and lose a lot of the culture. And in the Native community, that that hasn't happened. That has that you know, um commitment to just passing that on from generation to generation is is so important. And so I'm I'm happy to be a co-sponsor of this tonight. Thank you. All right, thank you, Councilwoman Ortega. Councilwoman Kniech. Thank you very much, and I also want to thank my colleague for bringing this forward. Um, and I I I just wanted to to say a word to the artist about how beautiful and moving I thought this logo was and your description of it. Um, and I think one of the things um that is clear is, you know, the words sometimes don't convey the power of imagery or music or the other pieces that make up culture. And so I think the art is so important. And when you talked about water, I was also thinking about land. And I guess I just wanted to say thank you. Um, many of the Native American peoples of Colorado have been at the forefront, or actually nationally, of defending some of the the um public lands that have been protected over the last few years that are under attack right now. And they're places that you all um the communities have fought to protect, but that everyone gets to enjoy. And so I just think that it's an example of where cultural preservation intersects with environmental protection, with you know, recreation and all of the other ways that that public lands are so important. And so I think, um, I just wanted to say thank you for that because I think we have some very sacred places in our country that are at risk right now. And um, so as we celebrate, I appreciate that there's still a piece of resistance in here. And I think that um, I just want to mention a solidarity. I I want to mention a feeling of solidarity with that resistance. So, thank you, and uh, happy Confluence Week. Thank you, uh, Councilwoman Kniech. Uh, and seeing no other comments, I'll just say a couple. And um, in a time of such divisive, um, ugliness and just despicable behavior from our leadership, um, the reason I'm so supportive of Indigenous Peoples' Day is because it means inclusivity. It means respecting all, respecting those who have been silenced, um, uh, on purpose for a long time and whose history has not been told. And so we celebrate inclusivity in the face of such, um, such evil times, honestly.\n"
     ]
    }
   ],
   "source": [
    "response = client.models.generate_content(\n",
    "    model=\"gemini-2.5-flash\", contents=[\"Generate a transcript of the speech.\", myfile]\n",
    ")\n",
    "\n",
    "print(response.text)"
   ]
  },
  {
   "cell_type": "code",
   "execution_count": null,
   "metadata": {},
   "outputs": [],
   "source": []
  }
 ],
 "metadata": {
  "kernelspec": {
   "display_name": "venv",
   "language": "python",
   "name": "python3"
  },
  "language_info": {
   "codemirror_mode": {
    "name": "ipython",
    "version": 3
   },
   "file_extension": ".py",
   "mimetype": "text/x-python",
   "name": "python",
   "nbconvert_exporter": "python",
   "pygments_lexer": "ipython3",
   "version": "3.12.4"
  }
 },
 "nbformat": 4,
 "nbformat_minor": 2
}
