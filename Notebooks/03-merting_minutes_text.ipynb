{
 "cells": [
  {
   "cell_type": "code",
   "execution_count": 1,
   "metadata": {},
   "outputs": [
    {
     "data": {
      "text/plain": [
       "10"
      ]
     },
     "execution_count": 1,
     "metadata": {},
     "output_type": "execute_result"
    }
   ],
   "source": [
    "5+5"
   ]
  },
  {
   "cell_type": "code",
   "execution_count": 2,
   "metadata": {},
   "outputs": [],
   "source": [
    "from google import genai \n",
    "from google.genai import types\n",
    "from dotenv import load_dotenv\n",
    "import os\n",
    "\n",
    "load_dotenv()\n",
    "api_key = os.getenv(\"GEMINI_API_KEY\")\n",
    "\n",
    "client = genai.Client(api_key=api_key)"
   ]
  },
  {
   "cell_type": "code",
   "execution_count": null,
   "metadata": {},
   "outputs": [],
   "source": [
    "\n",
    "system_prompt = \"\"\"\n",
    "\n",
    "You are a professional meeting assistant. You will be given a transcript of a meeting from a video or audio recording.\n",
    "\n",
    "Your task is to generate clear and concise **Meeting Minutes** in a structured format that includes the following sections:\n",
    "\n",
    "1. **Meeting Title** (if mentioned)\n",
    "2. **Date & Time**\n",
    "3. **Attendees**\n",
    "4. **Agenda Items**\n",
    "5. **Discussion Summary** – summarize the main points of discussion.\n",
    "6. **Decisions Made** – list key decisions taken during the meeting.\n",
    "7. **Action Items** – include what needs to be done, by whom, and by when (if mentioned).\n",
    "8. **Next Meeting** – mention the proposed date/time if available.\n",
    "\n",
    "📌 Make the minutes formal and easy to read.\n",
    "📌 If some information is missing (e.g., attendees or date), leave a placeholder like [Not mentioned].\n",
    "\n",
    "Now here is the transcript:\n",
    "\n",
    "\n",
    "\"\"\"\n",
    "\n",
    "\n",
    "\n",
    "transcript = \"\"\"\n",
    "\n",
    "\n",
    "\"\"\"\n",
    "\n",
    "\n"
   ]
  },
  {
   "cell_type": "code",
   "execution_count": 5,
   "metadata": {},
   "outputs": [
    {
     "name": "stdout",
     "output_type": "stream",
     "text": [
      "**Meeting Minutes - Denver City Council Meeting**\n",
      "\n",
      "**1. Meeting Title:** Denver City Council Meeting\n",
      "\n",
      "**2. Date & Time:** Monday, October 9th, 2017 (Meeting commenced at 6:00 PM for the Halloween parade announcement, actual council meeting time not specified beyond the date)\n",
      "\n",
      "**3. Attendees:**\n",
      "*   Councilman Clark\n",
      "*   Councilman Espinoza\n",
      "*   Councilman Gilmore\n",
      "*   Councilman Kashmann\n",
      "*   Councilman Kniech\n",
      "*   Councilman Lopez\n",
      "*   Councilman New\n",
      "*   Councilman Ortega\n",
      "*   Councilman Sussman\n",
      "*   Mr. President\n",
      "*   (Absent: Black, Flynn)\n",
      "*   *Quorum present with 11 members.*\n",
      "\n",
      "**4. Agenda Items:**\n",
      "*   Pledge of Allegiance\n",
      "*   Roll Call\n",
      "*   Approval of Minutes (October 2nd)\n",
      "*   Council Announcements\n",
      "*   Presentations\n",
      "*   Communications\n",
      "*   Proclamation 1127: Indigenous Peoples' Day in the City and County of Denver\n",
      "\n",
      "**5. Discussion Summary:**\n",
      "The meeting opened with the Pledge of Allegiance. Following roll call, the minutes from October 2nd were approved. Councilman Clark announced the first-ever Broadway Halloween parade in District 7, scheduled for Saturday, October 21st, at 6:00 PM, moving from 3rd to Alameda. No presentations or communications were received.\n",
      "\n",
      "The main focus of the meeting was Proclamation 1127, observing the annual Indigenous Peoples' Day in the City and County of Denver. Councilman Lopez read the proclamation, highlighting:\n",
      "*   The indigenous peoples have lived and flourished on the Americas since time immemorial, with Denver built on ancestral homelands of numerous tribes (Southern Ute, Ute Mountain, Arapahoe, Cheyenne, etc.).\n",
      "*   Colorado encompasses ancestral homelands of 48 tribes, and Denver is home to descendants of approximately 100 tribal nations.\n",
      "*   Denver officially designated the second Monday of October as Indigenous Peoples' Day in 2016.\n",
      "*   The Council recognizes the vast contributions of indigenous peoples to community, knowledge, science, philosophy, art, and culture.\n",
      "*   The indigenous community, especially youth, have drawn attention to these contributions through initiatives like \"Confluence Week.\"\n",
      "*   The proclamation celebrates and honors cultural and foundational contributions, promoting education about indigenous history and contemporary impact.\n",
      "\n",
      "Councilman Lopez emphasized that Indigenous Peoples' Day is a celebration of pride and inclusivity, not contempt or disrespect for other cultures, echoing a quote from Cesar Chavez. He noted Denver's leadership in celebrating this day, having been featured in Time Magazine and Newsweek. He stressed that the day is \"a day on,\" for addressing critical issues like poverty and lack of services affecting indigenous communities. Councilwoman Ortega expressed her support, highlighting the preservation of indigenous language and culture, and her experience with the Commission on Indian Affairs. Councilwoman Kniech thanked the artist for the \"Confluence Week\" logo, connecting the imagery of water and land to the importance of indigenous communities in defending public lands and environmental protection, expressing solidarity with their resistance. The President concluded by reiterating that Indigenous Peoples' Day represents inclusivity and respect for those whose history has been historically silenced.\n",
      "\n",
      "**6. Decisions Made:**\n",
      "*   Minutes of October 2nd approved.\n",
      "*   Proclamation 1127 (Indigenous Peoples' Day) was moved, seconded, and adopted.\n",
      "\n",
      "**7. Action Items:**\n",
      "*   The Clerk of the City and County of Denver shall attest and affix the seal to Proclamation 1127.\n",
      "*   A copy of Proclamation 1127 to be transmitted to the Denver American Indian Commission, the City and County of Denver School District Number 1, and the Colorado Commission on Indian Affairs.\n",
      "*   Councilman Clark invited all to the Broadway Halloween Parade on October 21st at 6:00 PM.\n",
      "\n",
      "**8. Next Meeting:**\n",
      "[Not mentioned]\n"
     ]
    }
   ],
   "source": [
    "response = client.models.generate_content(\n",
    "    model=\"gemini-2.5-flash\",\n",
    "    config=types.GenerateContentConfig(\n",
    "        system_instruction=system_prompt),\n",
    "    contents=transcript\n",
    ")\n",
    "\n",
    "print(response.text)"
   ]
  },
  {
   "cell_type": "code",
   "execution_count": null,
   "metadata": {},
   "outputs": [],
   "source": []
  }
 ],
 "metadata": {
  "kernelspec": {
   "display_name": "venv",
   "language": "python",
   "name": "python3"
  },
  "language_info": {
   "codemirror_mode": {
    "name": "ipython",
    "version": 3
   },
   "file_extension": ".py",
   "mimetype": "text/x-python",
   "name": "python",
   "nbconvert_exporter": "python",
   "pygments_lexer": "ipython3",
   "version": "3.12.4"
  }
 },
 "nbformat": 4,
 "nbformat_minor": 2
}
