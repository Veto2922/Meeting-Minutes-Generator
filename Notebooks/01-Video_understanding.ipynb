{
 "cells": [
  {
   "cell_type": "code",
   "execution_count": 1,
   "metadata": {},
   "outputs": [
    {
     "data": {
      "text/plain": [
       "10"
      ]
     },
     "execution_count": 1,
     "metadata": {},
     "output_type": "execute_result"
    }
   ],
   "source": [
    "5+5"
   ]
  },
  {
   "cell_type": "code",
   "execution_count": 9,
   "metadata": {},
   "outputs": [
    {
     "name": "stdout",
     "output_type": "stream",
     "text": [
      "Collecting python-dotenv==1.1.1\n",
      "  Using cached python_dotenv-1.1.1-py3-none-any.whl.metadata (24 kB)\n",
      "Using cached python_dotenv-1.1.1-py3-none-any.whl (20 kB)\n",
      "Installing collected packages: python-dotenv\n",
      "Successfully installed python-dotenv-1.1.1\n",
      "Note: you may need to restart the kernel to use updated packages.\n"
     ]
    },
    {
     "name": "stderr",
     "output_type": "stream",
     "text": [
      "\n",
      "[notice] A new release of pip is available: 24.0 -> 25.1.1\n",
      "[notice] To update, run: python.exe -m pip install --upgrade pip\n"
     ]
    }
   ],
   "source": [
    "pip install python-dotenv==1.1.1"
   ]
  },
  {
   "cell_type": "code",
   "execution_count": 30,
   "metadata": {},
   "outputs": [
    {
     "data": {
      "text/plain": [
       "True"
      ]
     },
     "execution_count": 30,
     "metadata": {},
     "output_type": "execute_result"
    }
   ],
   "source": [
    "from google import genai \n",
    "from google.genai import types\n",
    "from dotenv import load_dotenv\n",
    "import os\n",
    "\n",
    "load_dotenv()"
   ]
  },
  {
   "cell_type": "code",
   "execution_count": 15,
   "metadata": {},
   "outputs": [],
   "source": [
    "api_key = os.getenv(\"GEMINI_API_KEY\")\n",
    "\n",
    "client = genai.Client(api_key=api_key)\n",
    "\n"
   ]
  },
  {
   "cell_type": "code",
   "execution_count": 18,
   "metadata": {},
   "outputs": [
    {
     "data": {
      "text/plain": [
       "File(\n",
       "  create_time=datetime.datetime(2025, 6, 26, 19, 15, 25, 51198, tzinfo=TzInfo(UTC)),\n",
       "  expiration_time=datetime.datetime(2025, 6, 28, 19, 15, 24, 984894, tzinfo=TzInfo(UTC)),\n",
       "  mime_type='video/mp4',\n",
       "  name='files/aymdzml463ju',\n",
       "  sha256_hash='Y2QzNWZjOGZmYzQ5NDY0OGY2ODdjNDRkYzVlYTZhMTQ0YjM3NTdkODg2YjQwYjUxODY5MmIxZjIwN2MwNGQ0OQ==',\n",
       "  size_bytes=12037764,\n",
       "  source=<FileSource.UPLOADED: 'UPLOADED'>,\n",
       "  state=<FileState.PROCESSING: 'PROCESSING'>,\n",
       "  update_time=datetime.datetime(2025, 6, 26, 19, 15, 25, 51198, tzinfo=TzInfo(UTC)),\n",
       "  uri='https://generativelanguage.googleapis.com/v1beta/files/aymdzml463ju'\n",
       ")"
      ]
     },
     "execution_count": 18,
     "metadata": {},
     "output_type": "execute_result"
    }
   ],
   "source": [
    "myfile = client.files.upload(file=r\"..\\data\\part2.mp4\")\n",
    "myfile"
   ]
  },
  {
   "cell_type": "code",
   "execution_count": 37,
   "metadata": {},
   "outputs": [
    {
     "name": "stdout",
     "output_type": "stream",
     "text": [
      "Here is the requested audio transcription.\n",
      "\n",
      "0:00 نبني وكونفيجر اكثر لان احنا شغالين على فيل داتا فدي ليها ليها سعر تاني ستج 3 انهانسمنت ومش عارف هنحط فيتشرز انتجيت مع مش عارف كذا قصه ثانيه خالص فدي بمينت ودي بمينت ودي بمينت يعني احنا دلوقتي في ستيج واحد محتاجين منك بي او سي محتاجين منك تشوف الريسورسز بتاعتك تدينا تايم لاين هحاسبك تايم لاين فاينانشال طبعا شغالين معاك كلهم لازم يكونوا تحت تحت عين اداره المشاريع برض هنعمل جروب ما بينا وبين بعض ونتابع من خلاله خط سير المشروع بس قبل ما نعمل البلان او قبل ما نعمل الجروب لازم نكون عارفين زي ما بيقولوا راس الرجاله الموظفين اللي معانا هم كم واحد المشروع ده ياخد وقت قد ايه يكون في التزام يكون في تعاون يكون في يعني كلنا مع بعض ولكن في الاخر انا بحاسبك انت تحاسبهم وبحاسبك على حاجه هحاسبك انت مش هحاسب اللي معاك اللي معاك انا كده كده ما تفعتش معاهم وما اعرفهمش انما لو انا اللي هجيبهم من عندي انالي فانا لا انا عارف كل واحد حد لو اتاخر لا انت اتاخرت ليه يا معلم انت في كذا كذا كذا ساعد مع كذا ولذلك انا ليه دايما بحب ان انا اريح اللي معايا ان انا لا مش شرط ان انا افرض عليه حد من عندي ممكن اللي من عندي ده ما يكونش هو مرتاح معاه او ما يكونش هو متعود في الكلام معايا او ما شافش شغله او او او او ما عندوش القدرات اللي هو فاهم قصدي فانت شوف اللي معاك ورد علي اسرع وقت اقصى مثلا بكره ولا بعده خش معاهم ميتنج اعرفهم الفكره ماشيه ازاي عشان يبقوا فاهمين هم داخلين على ايه بالظبط عرفهم ان المشروع ده بروجكت او فيكس برايس يعني انت مسؤولياتك في المشروع ده هتعمل 1 ت 3 4 فا لحد مثلا كذا هتاخد فيهم كام هتاخد فيهم كذا وانت هتاخد فيهم كام هاخد فيهم كذا وانت كعبد الرحمن هتاخد كام هاخد فيهم كذا تجمع ترجع لي تقوللي في 1 ا ت ده الفاش واشغل معيا 1 ا 3 يعني اي كلام فاهم اه مش مش اللي هي احسن حاجه لمجرد البروف كونسيبت وبعد كده الكستمايز معنديش اي مشكله بس ما انا عارف انا انا انا انا انا الفكره في حاجه ليه الفكره في حاجه ان احنا شغالين في ستيج واحد ستيج واحد زي ما انت بتقول الباك اند انت كده كده عارفين ان الموديل والكلام ده بيشتغل في الباك اند ولكن فيما مستقبلا لازم هيحل في الموضوع يو اي او فرونت اند او كذا فانا عايزه من دلوقتي ابقى انا عارف ميته ماشيه ازاي والسعر ماشي ازاي علشان ابتدي ان انا اضبط الكونتركت مع مع الدكتور تمام انما ما ينفعش بعد ما اشتغلنا ده في واحد هياخد اديشنال برايس كذا لا ما انت جاي تقول لي واحنا بعد ما بدا المشروع ما ينفعش فانت لا اما تختارهم من دلوقتي وتشوف البرايس لا اما انت من نفسك تقول المشروع ده كله على بعضه هيكلفنا 10 ما يهمنيش انا بقى انت هتدي الناس كام يعني يعني مثلا انت تقول وانت اشتغلت دلوقتي ماشي لقيت الفرونت يو اي كل واحد فيهم ياخد خمسه فانت كده انت متفق معايا الع ما ينفعش تيجي بعدها تقوللي لا انا هاخد 15 انت معايا فانت بتلبس نفسك بالظبط يعني انت انت هتعرفني المشروع كله كبلك عامل ازاي انا بقى ما يهمنيش خالص التيم اللي معاك ده انت كل واحد فيهم بياخد كام انا ما انا يهمني الفان انا انك قلت هتاخد 10 وهتقدم لي كذا فلو قدمت كذا مظبوط ال عش بتوعك في جيبك ال بقى دول انت بتشوف التيم بتاعك تدي له ده كذا تدي له ده اللي اتفقت عليه معايا اتفقت عليه معايا انا كده كده في الاخر مفاهم معاك انت ماش عبد الرحمن ف انتظر بس منك الموضوع ده باسرع واقرب وقت ونبدا نتوكل على الله نشتغل قبل العيد بعد العيد او حضر طبعا معرفش الناس اللي بتشتغل في العيد ولا ايه يعني براحتك في الاخر لا لا لا انا بكلمك يعني في ناس انا بالنسبه لي مفيش اكتيفيز في العيد فاحيانا بشتغل مفيش حاجه غير ان انا بنام فاهم قصدي في حاجات بظبطها لبعد العيد كلام من ده فبالتالي مثلا في ناس يعني مش هتفرق معايا زي ما قلتلك المشروع اوبن وانت وشطتك هي كده كده مش هيكون تايم او تايم لاين لا هو بون هنبتدي ان احنا نتابع معاك فيها ده ده ما في الموضوع يعني فظبط وخطط وبكره ترد عليا ان شاء الله اخذ لحد مفهوش مشكله خالص بالحض رد عليا بالفاشال و اشوف الدنيا ماشيه ازاي وممكن اصلا نعمل نبدا يعني على ما نشوف مرحله يعني الفاشال ونتكلم ونشوف الدنيا ماشيه ازاي على ما العميل يرد برض والكلام ده ممكن يبقى بعد العيد تبقى انت عارف انك بعد العيد خلاص هتبدا تشتغل يعني فانت معاك يا رئيس لحد الاسبوع الجاي فكر ورد فيها الدنيا الدنيا بتاعتك ماشيه ازاي بس يا ريت في اسرع وقت عشان نلحق ان احنا نبقى على الاقل يعني قنا البي او وتبدا تشتغل بعد العيد اوتوماتيك يعني ماشي يا عبد الرحمن وبقى الايه ان موضوع التاخيرات والحاجات دي هو اللي بيبقى ماسك الواتساب والحاجات دي خصوصا النهارده اجازه هو هو بيبعت لي هو بيبعت لي الانفيتيشن هو انا بس ماعرفش القصه تمام يعني انا مش مش مش انا اللي معايا الواتساب في كذا حد كمدير مشاريع هو بيبورت الموضوع ولكن الايه يشن اللي حصلت دي فغصبا عنهم برض اجازه وكده وعذرا على على اللي حصل بس ان شاء الله الامور اللي جايه ان شاء الله المشروع يبدا هيكون الدنيا احسن بكده بكثير\n"
     ]
    }
   ],
   "source": [
    "\n",
    "response = client.models.generate_content(\n",
    "    model=\"gemini-2.0-flash\",\n",
    "    contents=[myfile, \"Transcribe the audio from this video\"]\n",
    ")\n",
    "\n",
    "print(response.text)"
   ]
  },
  {
   "cell_type": "markdown",
   "metadata": {},
   "source": [
    "# youtube videos"
   ]
  },
  {
   "cell_type": "code",
   "execution_count": 34,
   "metadata": {},
   "outputs": [],
   "source": [
    "response = client.models.generate_content(\n",
    "    model='models/gemini-2.0-flash',\n",
    "    contents=types.Content(\n",
    "        parts=[\n",
    "            types.Part(\n",
    "                file_data=types.FileData(file_uri='https://www.youtube.com/watch?v=9hE5-98ZeCg')\n",
    "            ),\n",
    "            types.Part(text='Transcribe the audio from this video, giving timestamps for salient events in the video')\n",
    "        ]\n",
    "    )\n",
    ")"
   ]
  },
  {
   "cell_type": "code",
   "execution_count": 35,
   "metadata": {},
   "outputs": [
    {
     "name": "stdout",
     "output_type": "stream",
     "text": [
      "Okay, here is the information you requested:\n",
      "\n",
      "[00:00:00] The presentation begins with a black screen and the title, \"Build AI agents with Gemini 2.0\". The date \"December 2024\" is noted at the bottom. A list of functionalities appears to the right: Native audio output, Native image output, Native tool use, Spatial understanding, Video understanding, and Multimodal live streaming.\n",
      "\n",
      "[00:00:05] The presenter transitions into a live demo of Gemini 2.0, showing a Google Doc titled \"Multimodal Live API demo\" in the main window. Below the Google Doc window, an \"Alex Chen\" is visible in a Google Meet window.\n",
      "\n",
      "[00:00:15] Gemini 2.0 responds, saying, \"Yes, I see your screen. It's showing a document with the title demo. It also contains bullet points and a Google Meet window with a person in the video. Is there anything in particular you would like to talk about on the screen?\"\n",
      "\n",
      "[00:00:27] The presenter zooms in on the Google Doc, highlighting, \"The Multimodal Live API lets you build real-time multimodal applications powered by Gemini 2.0 Flash. It features tool use like Google Search and code execution, function calling, and more.\"\n",
      "\n",
      "[00:00:36] Gemini 2.0 responds, \"Sure, I can do that. The text you highlighted reads, The Multimodal Live API lets you build real-time multimodal applications powered by Gemini 2.0 Flash. It features tool use like Google Search and code execution, function calling, and more. Would you like me to read the following lines too?\"\n",
      "\n",
      "[00:00:50] The presenter highlights the word \"multimodal\".\n",
      "\n",
      "[00:01:00] Gemini 2.0 responds, \"I can do that. Multimodal refers to the ability to process and understand different types of data, like text, images, and audio, all together. Does that help?\"\n",
      "\n",
      "[00:01:23] The view switches back to the presenter's window.\n",
      "\n",
      "[00:01:23] Gemini 2.0 responds, \"Okay, I can do that. Once upon a time, in a small village nestled beside a quiet forest, there was a very unremarkable rock. This rock was gray, and it was round, and it sat there--\".\n",
      "\n",
      "[00:01:33] The presenter interrupts, \"Sorry, I have to interrupt you.\"\n",
      "\n",
      "[00:01:37] Gemini 2.0 responds, \"No problem. I understand that interruptions are part of the demo. What should I do now?\"\n",
      "\n",
      "[00:01:41] The view switches back to the Google Doc. The bullet points \"Interruptions\" and \"Memory\" are noted on the document.\n",
      "\n",
      "[00:01:52] Gemini 2.0 responds, \"I can do that. So far, we've discussed a demo of the multimodal live API, which lets you build real-time multimodal apps, and I defined what multimodal means. I was also asked to tell a very boring once-upon-a-time story, but I was interrupted. Is there anything else?\"\n",
      "\n",
      "[00:02:09] The presenter transitions to a screen with the title, \"Start building with Gemini 2.0 at aistudio.google.com\".\n",
      "\n",
      "[00:02:17] Gemini 2.0 responds, \"I can read it if you would like. The ending card says, Start building with Gemini 2.0 at aistudio.google.com. Is that correct?\"\n",
      "\n"
     ]
    }
   ],
   "source": [
    "print(response.text)"
   ]
  },
  {
   "cell_type": "code",
   "execution_count": null,
   "metadata": {},
   "outputs": [],
   "source": []
  }
 ],
 "metadata": {
  "kernelspec": {
   "display_name": "venv",
   "language": "python",
   "name": "python3"
  },
  "language_info": {
   "codemirror_mode": {
    "name": "ipython",
    "version": 3
   },
   "file_extension": ".py",
   "mimetype": "text/x-python",
   "name": "python",
   "nbconvert_exporter": "python",
   "pygments_lexer": "ipython3",
   "version": "3.12.4"
  }
 },
 "nbformat": 4,
 "nbformat_minor": 2
}
